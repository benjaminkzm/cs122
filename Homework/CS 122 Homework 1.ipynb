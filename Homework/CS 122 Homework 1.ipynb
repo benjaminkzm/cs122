{
 "cells": [
  {
   "cell_type": "markdown",
   "id": "6cbdc8a5-95c3-42a4-80ff-f24c650ed787",
   "metadata": {},
   "source": [
    "# CS 122 Homework 1"
   ]
  },
  {
   "cell_type": "markdown",
   "id": "7d267323-e12f-4546-adf8-5b96bf6fff6f",
   "metadata": {},
   "source": [
    "Name: Benjamin Khor\n",
    "\n",
    "Student ID: 017208763\n",
    "\n",
    "Date: January 26, 2025"
   ]
  },
  {
   "cell_type": "markdown",
   "id": "b0df022b-c898-44a5-b0e3-bfe5db2b1d0f",
   "metadata": {},
   "source": [
    "# Problem 1.1: Course file structure"
   ]
  },
  {
   "cell_type": "markdown",
   "id": "66e7d1e3-ae81-429c-b5de-5aea084919b2",
   "metadata": {},
   "source": [
    "I have created a file structure for this course as follows:"
   ]
  },
  {
   "cell_type": "code",
   "execution_count": 4,
   "id": "ea1a34d9-e4ad-47d6-bf15-96c1431c35e4",
   "metadata": {},
   "outputs": [
    {
     "name": "stdout",
     "output_type": "stream",
     "text": [
      "My course directory is: \n",
      "/Users/benja/OneDrive/Desktop/CS HW/cs122\n",
      " \n",
      "The subdirectories in my course directory are: \n",
      " - .git\n",
      " - Homework\n",
      " - Lecture\n",
      " - Project\n",
      " \n",
      "Currently, I am working in the following directory: \n",
      "C:\\Users\\benja\\Downloads\n"
     ]
    }
   ],
   "source": [
    "import os\n",
    "\n",
    "course_directory = '/Users/benja/OneDrive/Desktop/CS HW/cs122'\n",
    "\n",
    "print('My course directory is: ')\n",
    "print(course_directory)\n",
    "\n",
    "print(' ')\n",
    "\n",
    "print('The subdirectories in my course directory are: ')\n",
    "for file_name in os.listdir(course_directory):\n",
    "    d = os.path.join(course_directory, file_name)\n",
    "    if os.path.isdir(d):\n",
    "        print(' - '+file_name)\n",
    "              \n",
    "print(' ')\n",
    "\n",
    "print('Currently, I am working in the following directory: ')\n",
    "print(os.getcwd())"
   ]
  },
  {
   "cell_type": "markdown",
   "id": "db811bcd-382b-4254-be88-7e7d7350805c",
   "metadata": {},
   "source": [
    "# Problem 1.2: Anaconda environment"
   ]
  },
  {
   "cell_type": "markdown",
   "id": "b22df9ae-d93a-4b75-9723-592ba861e489",
   "metadata": {},
   "source": [
    "For this course, I create an **anaconda** environment called **cs 122**. You can observe my environment as follows:"
   ]
  },
  {
   "cell_type": "code",
   "execution_count": 5,
   "id": "03850fc2-e31e-4f24-8e01-ea830679dc13",
   "metadata": {},
   "outputs": [
    {
     "name": "stdout",
     "output_type": "stream",
     "text": [
      "My current conda environment is: cs122\n"
     ]
    }
   ],
   "source": [
    "print('My current conda environment is: '+os.environ['CONDA_DEFAULT_ENV'])"
   ]
  },
  {
   "cell_type": "markdown",
   "id": "463d617c-eba4-45a7-aadd-ec802125bd28",
   "metadata": {},
   "source": [
    "# Problem 1.3: Markdown Practice"
   ]
  },
  {
   "cell_type": "markdown",
   "id": "a9b72364-930f-4ff0-9e0a-54b6a22906ec",
   "metadata": {},
   "source": [
    "The Course Learning Outcomes of CS 122 are as follows:\n",
    "\n",
    "1. Design,implement and test readable, efficient programs that take advantage of Python built-in capabilities and follow Python best practices.\n",
    "2. Understand implementation differences and perfirmance tradeoffs associated with various Python data structures.\n",
    "3. Develop Python applications using the modules and packages available in the Python standard library.\n",
    "4. Develop Python applications using third party libraries.\n",
    "5. Design, implement and test Python programs that include a graphical user interface, data analysis and visualization, wev data extraction and wev applications."
   ]
  },
  {
   "cell_type": "markdown",
   "id": "c74a38da-9f19-429b-9fba-73905504706e",
   "metadata": {},
   "source": [
    "The breakdown of grading in CS 122 is as follows:"
   ]
  },
  {
   "cell_type": "markdown",
   "id": "8e08a6da-6402-49d2-a3eb-e71a07290583",
   "metadata": {},
   "source": [
    "| Category | Percent |\n",
    "|----------|---------|\n",
    "|Reading Quizzes| 10%|\n",
    "|Homework|30%|\n",
    "|Midterm|20%|\n",
    "|Project|40%|"
   ]
  }
 ],
 "metadata": {
  "kernelspec": {
   "display_name": "cs122",
   "language": "python",
   "name": "cs122"
  },
  "language_info": {
   "codemirror_mode": {
    "name": "ipython",
    "version": 3
   },
   "file_extension": ".py",
   "mimetype": "text/x-python",
   "name": "python",
   "nbconvert_exporter": "python",
   "pygments_lexer": "ipython3",
   "version": "3.10.16"
  }
 },
 "nbformat": 4,
 "nbformat_minor": 5
}
